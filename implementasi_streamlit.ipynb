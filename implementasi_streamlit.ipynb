{
 "cells": [
  {
   "cell_type": "code",
   "execution_count": 1,
   "metadata": {},
   "outputs": [
    {
     "name": "stdout",
     "output_type": "stream",
     "text": [
      "Requirement already satisfied: streamlit-option-menu in c:\\users\\user\\anaconda3\\lib\\site-packages (0.3.2)\n",
      "Requirement already satisfied: streamlit>=0.63 in c:\\users\\user\\anaconda3\\lib\\site-packages (from streamlit-option-menu) (1.17.0)\n",
      "Requirement already satisfied: cachetools>=4.0 in c:\\users\\user\\anaconda3\\lib\\site-packages (from streamlit>=0.63->streamlit-option-menu) (5.2.1)\n",
      "Requirement already satisfied: pydeck>=0.1.dev5 in c:\\users\\user\\anaconda3\\lib\\site-packages (from streamlit>=0.63->streamlit-option-menu) (0.8.0)\n",
      "Requirement already satisfied: pympler>=0.9 in c:\\users\\user\\anaconda3\\lib\\site-packages (from streamlit>=0.63->streamlit-option-menu) (1.0.1)\n",
      "Requirement already satisfied: protobuf<4,>=3.12 in c:\\users\\user\\anaconda3\\lib\\site-packages (from streamlit>=0.63->streamlit-option-menu) (3.19.6)\n",
      "Requirement already satisfied: packaging>=14.1 in c:\\users\\user\\anaconda3\\lib\\site-packages (from streamlit>=0.63->streamlit-option-menu) (20.9)\n",
      "Requirement already satisfied: tornado>=5.0 in c:\\users\\user\\anaconda3\\lib\\site-packages (from streamlit>=0.63->streamlit-option-menu) (6.1)\n",
      "Requirement already satisfied: importlib-metadata>=1.4 in c:\\users\\user\\anaconda3\\lib\\site-packages (from streamlit>=0.63->streamlit-option-menu) (6.0.0)\n",
      "Requirement already satisfied: tzlocal>=1.1 in c:\\users\\user\\anaconda3\\lib\\site-packages (from streamlit>=0.63->streamlit-option-menu) (4.2)\n",
      "Requirement already satisfied: pillow>=6.2.0 in c:\\users\\user\\anaconda3\\lib\\site-packages (from streamlit>=0.63->streamlit-option-menu) (8.2.0)\n",
      "Requirement already satisfied: watchdog in c:\\users\\user\\anaconda3\\lib\\site-packages (from streamlit>=0.63->streamlit-option-menu) (1.0.2)\n",
      "Requirement already satisfied: requests>=2.4 in c:\\users\\user\\anaconda3\\lib\\site-packages (from streamlit>=0.63->streamlit-option-menu) (2.25.1)\n",
      "Requirement already satisfied: python-dateutil in c:\\users\\user\\anaconda3\\lib\\site-packages (from streamlit>=0.63->streamlit-option-menu) (2.8.1)\n",
      "Requirement already satisfied: rich>=10.11.0 in c:\\users\\user\\anaconda3\\lib\\site-packages (from streamlit>=0.63->streamlit-option-menu) (13.0.1)\n",
      "Requirement already satisfied: validators>=0.2 in c:\\users\\user\\anaconda3\\lib\\site-packages (from streamlit>=0.63->streamlit-option-menu) (0.20.0)\n",
      "Requirement already satisfied: toml in c:\\users\\user\\anaconda3\\lib\\site-packages (from streamlit>=0.63->streamlit-option-menu) (0.10.2)\n",
      "Requirement already satisfied: typing-extensions>=3.10.0.0 in c:\\users\\user\\anaconda3\\lib\\site-packages (from streamlit>=0.63->streamlit-option-menu) (4.4.0)\n",
      "Requirement already satisfied: pyarrow>=4.0 in c:\\users\\user\\anaconda3\\lib\\site-packages (from streamlit>=0.63->streamlit-option-menu) (10.0.1)\n",
      "Requirement already satisfied: pandas>=0.21.0 in c:\\users\\user\\anaconda3\\lib\\site-packages (from streamlit>=0.63->streamlit-option-menu) (1.2.4)\n",
      "Requirement already satisfied: semver in c:\\users\\user\\anaconda3\\lib\\site-packages (from streamlit>=0.63->streamlit-option-menu) (2.13.0)\n",
      "Requirement already satisfied: altair>=3.2.0 in c:\\users\\user\\anaconda3\\lib\\site-packages (from streamlit>=0.63->streamlit-option-menu) (4.2.0)\n",
      "Requirement already satisfied: click>=7.0 in c:\\users\\user\\anaconda3\\lib\\site-packages (from streamlit>=0.63->streamlit-option-menu) (7.1.2)\n",
      "Requirement already satisfied: blinker>=1.0.0 in c:\\users\\user\\anaconda3\\lib\\site-packages (from streamlit>=0.63->streamlit-option-menu) (1.5)\n",
      "Requirement already satisfied: numpy in c:\\users\\user\\anaconda3\\lib\\site-packages (from streamlit>=0.63->streamlit-option-menu) (1.20.1)\n",
      "Requirement already satisfied: gitpython!=3.1.19 in c:\\users\\user\\anaconda3\\lib\\site-packages (from streamlit>=0.63->streamlit-option-menu) (3.1.30)\n",
      "Requirement already satisfied: jinja2 in c:\\users\\user\\anaconda3\\lib\\site-packages (from altair>=3.2.0->streamlit>=0.63->streamlit-option-menu) (2.11.3)\n",
      "Requirement already satisfied: entrypoints in c:\\users\\user\\anaconda3\\lib\\site-packages (from altair>=3.2.0->streamlit>=0.63->streamlit-option-menu) (0.3)\n",
      "Requirement already satisfied: jsonschema>=3.0 in c:\\users\\user\\anaconda3\\lib\\site-packages (from altair>=3.2.0->streamlit>=0.63->streamlit-option-menu) (3.2.0)\n",
      "Requirement already satisfied: toolz in c:\\users\\user\\anaconda3\\lib\\site-packages (from altair>=3.2.0->streamlit>=0.63->streamlit-option-menu) (0.11.1)\n",
      "Requirement already satisfied: gitdb<5,>=4.0.1 in c:\\users\\user\\anaconda3\\lib\\site-packages (from gitpython!=3.1.19->streamlit>=0.63->streamlit-option-menu) (4.0.10)\n",
      "Requirement already satisfied: smmap<6,>=3.0.1 in c:\\users\\user\\anaconda3\\lib\\site-packages (from gitdb<5,>=4.0.1->gitpython!=3.1.19->streamlit>=0.63->streamlit-option-menu) (5.0.0)\n",
      "Requirement already satisfied: zipp>=0.5 in c:\\users\\user\\anaconda3\\lib\\site-packages (from importlib-metadata>=1.4->streamlit>=0.63->streamlit-option-menu) (3.4.1)\n",
      "Requirement already satisfied: six>=1.11.0 in c:\\users\\user\\anaconda3\\lib\\site-packages (from jsonschema>=3.0->altair>=3.2.0->streamlit>=0.63->streamlit-option-menu) (1.15.0)\n",
      "Requirement already satisfied: attrs>=17.4.0 in c:\\users\\user\\anaconda3\\lib\\site-packages (from jsonschema>=3.0->altair>=3.2.0->streamlit>=0.63->streamlit-option-menu) (20.3.0)\n",
      "Requirement already satisfied: pyrsistent>=0.14.0 in c:\\users\\user\\anaconda3\\lib\\site-packages (from jsonschema>=3.0->altair>=3.2.0->streamlit>=0.63->streamlit-option-menu) (0.17.3)\n",
      "Requirement already satisfied: setuptools in c:\\users\\user\\anaconda3\\lib\\site-packages (from jsonschema>=3.0->altair>=3.2.0->streamlit>=0.63->streamlit-option-menu) (52.0.0.post20210125)\n",
      "Requirement already satisfied: pyparsing>=2.0.2 in c:\\users\\user\\anaconda3\\lib\\site-packages (from packaging>=14.1->streamlit>=0.63->streamlit-option-menu) (2.4.7)\n",
      "Requirement already satisfied: pytz>=2017.3 in c:\\users\\user\\anaconda3\\lib\\site-packages (from pandas>=0.21.0->streamlit>=0.63->streamlit-option-menu) (2021.1)\n",
      "Requirement already satisfied: MarkupSafe>=0.23 in c:\\users\\user\\anaconda3\\lib\\site-packages (from jinja2->altair>=3.2.0->streamlit>=0.63->streamlit-option-menu) (1.1.1)\n",
      "Requirement already satisfied: idna<3,>=2.5 in c:\\users\\user\\anaconda3\\lib\\site-packages (from requests>=2.4->streamlit>=0.63->streamlit-option-menu) (2.10)\n",
      "Requirement already satisfied: urllib3<1.27,>=1.21.1 in c:\\users\\user\\anaconda3\\lib\\site-packages (from requests>=2.4->streamlit>=0.63->streamlit-option-menu) (1.26.4)\n",
      "Requirement already satisfied: certifi>=2017.4.17 in c:\\users\\user\\anaconda3\\lib\\site-packages (from requests>=2.4->streamlit>=0.63->streamlit-option-menu) (2020.12.5)\n",
      "Requirement already satisfied: chardet<5,>=3.0.2 in c:\\users\\user\\anaconda3\\lib\\site-packages (from requests>=2.4->streamlit>=0.63->streamlit-option-menu) (4.0.0)\n",
      "Requirement already satisfied: pygments<3.0.0,>=2.6.0 in c:\\users\\user\\anaconda3\\lib\\site-packages (from rich>=10.11.0->streamlit>=0.63->streamlit-option-menu) (2.8.1)\n",
      "Requirement already satisfied: commonmark<0.10.0,>=0.9.0 in c:\\users\\user\\anaconda3\\lib\\site-packages (from rich>=10.11.0->streamlit>=0.63->streamlit-option-menu) (0.9.1)\n",
      "Requirement already satisfied: backports.zoneinfo in c:\\users\\user\\anaconda3\\lib\\site-packages (from tzlocal>=1.1->streamlit>=0.63->streamlit-option-menu) (0.2.1)\n",
      "Requirement already satisfied: pytz-deprecation-shim in c:\\users\\user\\anaconda3\\lib\\site-packages (from tzlocal>=1.1->streamlit>=0.63->streamlit-option-menu) (0.1.0.post0)\n",
      "Requirement already satisfied: tzdata in c:\\users\\user\\anaconda3\\lib\\site-packages (from tzlocal>=1.1->streamlit>=0.63->streamlit-option-menu) (2022.7)\n",
      "Requirement already satisfied: decorator>=3.4.0 in c:\\users\\user\\anaconda3\\lib\\site-packages (from validators>=0.2->streamlit>=0.63->streamlit-option-menu) (5.0.6)\n"
     ]
    }
   ],
   "source": [
    "!pip install streamlit-option-menu"
   ]
  },
  {
   "cell_type": "code",
   "execution_count": 23,
   "metadata": {},
   "outputs": [
    {
     "name": "stdout",
     "output_type": "stream",
     "text": [
      "Overwriting app.py\n"
     ]
    }
   ],
   "source": [
    "%%writefile app.py\n",
    "\n",
    "import streamlit as st\n",
    "from streamlit_option_menu import option_menu\n",
    "import tensorflow as tf\n",
    "import numpy as np\n",
    "from PIL import Image, ImageOps\n",
    "import cv2\n",
    "\n",
    "\n",
    "st.title(\"Intel Image Classification\")\n",
    "st.caption(\"\"\"You can classify your pictures into 6 classes (Buildings, Forest, Glacier, Mountain, Sea, Street) in here.\n",
    "           This App Created by Annida Nur Islami with Implement Image Classification Concept and Convolutional Neural Network (CNN) Algorithm.\n",
    "           However This App still needs any improvement on its model to increase its accuracy.\"\"\")\n",
    "\n",
    "upload_file = st.file_uploader(\"Upload CT Scan image\", type = ['png','jpg'], accept_multiple_files=True)\n",
    "generate_pred = st.button(\"predict\")\n",
    "model = tf.keras.models.load_model(\"model\\model weight\\lima_1.h5\")\n",
    "\n",
    "def import_n_pred(image_data, model):\n",
    "    size = (64,64)    \n",
    "    image = ImageOps.fit(image_data, size, Image.ANTIALIAS)\n",
    "    image = np.asarray(image)\n",
    "    img = cv2.cvtColor(image, cv2.COLOR_BGR2RGB)\n",
    "    img_resize = cv2.resize(img, dsize=(64,64),interpolation=cv2.INTER_CUBIC)\n",
    "    img_reshape = img_resize[np.newaxis,...]\n",
    "    prediction = model.predict(img_reshape)\n",
    "\n",
    "    return prediction\n",
    "\n",
    "if generate_pred:\n",
    "    for upload_file in upload_file:\n",
    "        image = Image.open(upload_file)\n",
    "        with st.expander(upload_file.name, expanded=True):\n",
    "            x = upload_file.name\n",
    "            x = x.split(\".\",1)\n",
    "            x = x[0]\n",
    "            pred = import_n_pred(image, model)\n",
    "            labels = ['Buildings', 'Forest', 'Glacier', 'Mountain', 'sea', 'Street']\n",
    "            final = labels[np.argmax(pred)]\n",
    "            \n",
    "            st.write(f\"This Image is Classified as {final}\")\n",
    "            st.image(image, use_column_width=True)"
   ]
  },
  {
   "cell_type": "code",
   "execution_count": 3,
   "metadata": {},
   "outputs": [
    {
     "name": "stderr",
     "output_type": "stream",
     "text": [
      "Usage: streamlit run [OPTIONS] TARGET [ARGS]...\n",
      "\n",
      "Error: Invalid value: File does not exist: app_HemoragicStrokeDetection.py\n"
     ]
    },
    {
     "name": "stdout",
     "output_type": "stream",
     "text": [
      "^C\n"
     ]
    }
   ],
   "source": [
    "!streamlit run app.py"
   ]
  },
  {
   "cell_type": "code",
   "execution_count": null,
   "metadata": {},
   "outputs": [],
   "source": []
  }
 ],
 "metadata": {
  "colab": {
   "provenance": []
  },
  "kernelspec": {
   "display_name": "Python 3",
   "language": "python",
   "name": "python3"
  },
  "language_info": {
   "codemirror_mode": {
    "name": "ipython",
    "version": 3
   },
   "file_extension": ".py",
   "mimetype": "text/x-python",
   "name": "python",
   "nbconvert_exporter": "python",
   "pygments_lexer": "ipython3",
   "version": "3.8.8"
  }
 },
 "nbformat": 4,
 "nbformat_minor": 1
}
